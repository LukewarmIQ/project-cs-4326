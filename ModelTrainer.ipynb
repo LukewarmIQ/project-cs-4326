{
 "cells": [
  {
   "cell_type": "code",
   "execution_count": null,
   "id": "2360ee5c-b1b3-45b7-9d45-91456199954f",
   "metadata": {},
   "outputs": [],
   "source": [
    "# Make sure that your environment settings are as follows.\n",
    "# tflite-model-maker will not run on newer versions of Python\n",
    "# Python 3.9.0\n",
    "# Tensorflow 2.8.0\n",
    "# numpy 1.23.3\n",
    "# tflite-model-make 0.4.3\n",
    "# tflite-support 0.4.4"
   ]
  },
  {
   "cell_type": "code",
   "execution_count": 1,
   "id": "aec44f06-ce14-4836-a4bc-34b1ca471765",
   "metadata": {},
   "outputs": [
    {
     "name": "stderr",
     "output_type": "stream",
     "text": [
      "/home/jacob/anaconda3/envs/threenine/lib/python3.9/site-packages/tensorflow_addons/utils/tfa_eol_msg.py:23: UserWarning: \n",
      "\n",
      "TensorFlow Addons (TFA) has ended development and introduction of new features.\n",
      "TFA has entered a minimal maintenance and release mode until a planned end of life in May 2024.\n",
      "Please modify downstream libraries to take dependencies from other repositories in our TensorFlow community (e.g. Keras, Keras-CV, and Keras-NLP). \n",
      "\n",
      "For more information see: https://github.com/tensorflow/addons/issues/2807 \n",
      "\n",
      "  warnings.warn(\n",
      "/home/jacob/anaconda3/envs/threenine/lib/python3.9/site-packages/tensorflow_addons/utils/ensure_tf_install.py:53: UserWarning: Tensorflow Addons supports using Python ops for all Tensorflow versions above or equal to 2.13.0 and strictly below 2.16.0 (nightly versions are not supported). \n",
      " The versions of TensorFlow you are currently using is 2.8.0 and is not supported. \n",
      "Some things might work, some things might not.\n",
      "If you were to encounter a bug, do not file an issue.\n",
      "If you want to make sure you're using a tested and supported configuration, either change the TensorFlow version or the TensorFlow Addons's version. \n",
      "You can find the compatibility matrix in TensorFlow Addon's readme:\n",
      "https://github.com/tensorflow/addons\n",
      "  warnings.warn(\n"
     ]
    }
   ],
   "source": [
    "import numpy as np\n",
    "import os\n",
    "\n",
    "from tflite_model_maker.config import ExportFormat, QuantizationConfig\n",
    "from tflite_model_maker import model_spec\n",
    "from tflite_model_maker import object_detector\n",
    "\n",
    "from tflite_support import metadata\n",
    "\n",
    "import tensorflow as tf\n",
    "assert tf.__version__.startswith('2')\n",
    "\n",
    "tf.get_logger().setLevel('ERROR')\n",
    "from absl import logging\n",
    "logging.set_verbosity(logging.ERROR)"
   ]
  },
  {
   "cell_type": "code",
   "execution_count": 2,
   "id": "86e6fe86-ca29-4087-adb3-fc43cdd9f692",
   "metadata": {},
   "outputs": [],
   "source": [
    "train_data = object_detector.DataLoader.from_pascal_voc(\n",
    "    'beans/train',\n",
    "    'beans/train',\n",
    "    ['Garbanzo Beans Canned', 'Navy Beans Canned', 'Pinto Beans Canned', 'Black Beans Canned']\n",
    ")\n",
    "\n",
    "val_data = object_detector.DataLoader.from_pascal_voc(\n",
    "    'beans/validate',\n",
    "    'beans/validate',\n",
    "    ['Garbanzo Beans Canned', 'Navy Beans Canned', 'Pinto Beans Canned', 'Black Beans Canned']\n",
    ")"
   ]
  },
  {
   "cell_type": "code",
   "execution_count": 3,
   "id": "aab4c333-0034-48c4-9c10-df2a1e7ef26f",
   "metadata": {},
   "outputs": [
    {
     "name": "stdout",
     "output_type": "stream",
     "text": [
      "Size of training set: 159\n",
      "Size of validation set: 57\n"
     ]
    }
   ],
   "source": [
    "print(\"Size of training set:\", train_data.size)\n",
    "print(\"Size of validation set:\", val_data.size)"
   ]
  },
  {
   "cell_type": "code",
   "execution_count": 7,
   "id": "8f989147-e641-4bbc-914f-f56909d2cd85",
   "metadata": {},
   "outputs": [],
   "source": [
    "spec = model_spec.get('efficientdet_lite2')"
   ]
  },
  {
   "cell_type": "code",
   "execution_count": 8,
   "id": "1cc1487d-e35a-425c-9577-72cfd33516df",
   "metadata": {},
   "outputs": [
    {
     "name": "stdout",
     "output_type": "stream",
     "text": [
      "Epoch 1/50\n"
     ]
    },
    {
     "name": "stderr",
     "output_type": "stream",
     "text": [
      "2024-04-13 22:47:14.302250: W tensorflow/core/framework/dataset.cc:768] Input of GeneratorDatasetOp::Dataset will not be optimized because the dataset does not implement the AsGraphDefInternal() method needed to apply optimizations.\n"
     ]
    },
    {
     "name": "stdout",
     "output_type": "stream",
     "text": [
      "19/19 [==============================] - ETA: 0s - det_loss: 1.6883 - cls_loss: 1.1555 - box_loss: 0.0107 - reg_l2_loss: 0.0763 - loss: 1.7645 - learning_rate: 0.0089 - gradient_norm: 1.2408"
     ]
    },
    {
     "name": "stderr",
     "output_type": "stream",
     "text": [
      "2024-04-13 22:49:28.222458: W tensorflow/core/framework/dataset.cc:768] Input of GeneratorDatasetOp::Dataset will not be optimized because the dataset does not implement the AsGraphDefInternal() method needed to apply optimizations.\n"
     ]
    },
    {
     "name": "stdout",
     "output_type": "stream",
     "text": [
      "19/19 [==============================] - 145s 6s/step - det_loss: 1.6829 - cls_loss: 1.1545 - box_loss: 0.0106 - reg_l2_loss: 0.0763 - loss: 1.7591 - learning_rate: 0.0090 - gradient_norm: 1.2434 - val_det_loss: 1.4946 - val_cls_loss: 1.1101 - val_box_loss: 0.0077 - val_reg_l2_loss: 0.0763 - val_loss: 1.5709\n",
      "Epoch 2/50\n",
      "19/19 [==============================] - ETA: 0s - det_loss: 1.3578 - cls_loss: 1.0097 - box_loss: 0.0070 - reg_l2_loss: 0.0763 - loss: 1.4341 - learning_rate: 0.0100 - gradient_norm: 1.9913 "
     ]
    },
    {
     "name": "stderr",
     "output_type": "stream",
     "text": [
      "2024-04-13 22:53:18.616431: W tensorflow/core/framework/dataset.cc:768] Input of GeneratorDatasetOp::Dataset will not be optimized because the dataset does not implement the AsGraphDefInternal() method needed to apply optimizations.\n"
     ]
    },
    {
     "name": "stdout",
     "output_type": "stream",
     "text": [
      "19/19 [==============================] - 248s 13s/step - det_loss: 1.3447 - cls_loss: 1.0017 - box_loss: 0.0069 - reg_l2_loss: 0.0763 - loss: 1.4210 - learning_rate: 0.0100 - gradient_norm: 1.9713 - val_det_loss: 1.1015 - val_cls_loss: 0.8328 - val_box_loss: 0.0054 - val_reg_l2_loss: 0.0763 - val_loss: 1.1777\n",
      "Epoch 3/50\n",
      "19/19 [==============================] - ETA: 0s - det_loss: 0.9877 - cls_loss: 0.7432 - box_loss: 0.0049 - reg_l2_loss: 0.0763 - loss: 1.0640 - learning_rate: 0.0099 - gradient_norm: 1.9000 "
     ]
    },
    {
     "name": "stderr",
     "output_type": "stream",
     "text": [
      "2024-04-13 22:59:30.268802: W tensorflow/core/framework/dataset.cc:768] Input of GeneratorDatasetOp::Dataset will not be optimized because the dataset does not implement the AsGraphDefInternal() method needed to apply optimizations.\n"
     ]
    },
    {
     "name": "stdout",
     "output_type": "stream",
     "text": [
      "19/19 [==============================] - 371s 20s/step - det_loss: 0.9876 - cls_loss: 0.7423 - box_loss: 0.0049 - reg_l2_loss: 0.0763 - loss: 1.0638 - learning_rate: 0.0099 - gradient_norm: 1.9054 - val_det_loss: 0.9602 - val_cls_loss: 0.7019 - val_box_loss: 0.0052 - val_reg_l2_loss: 0.0763 - val_loss: 1.0365\n",
      "Epoch 4/50\n",
      "19/19 [==============================] - ETA: 0s - det_loss: 0.7696 - cls_loss: 0.5977 - box_loss: 0.0034 - reg_l2_loss: 0.0763 - loss: 0.8459 - learning_rate: 0.0099 - gradient_norm: 2.0448 "
     ]
    },
    {
     "name": "stderr",
     "output_type": "stream",
     "text": [
      "2024-04-13 23:05:35.698717: W tensorflow/core/framework/dataset.cc:768] Input of GeneratorDatasetOp::Dataset will not be optimized because the dataset does not implement the AsGraphDefInternal() method needed to apply optimizations.\n"
     ]
    },
    {
     "name": "stdout",
     "output_type": "stream",
     "text": [
      "19/19 [==============================] - 366s 19s/step - det_loss: 0.7648 - cls_loss: 0.5940 - box_loss: 0.0034 - reg_l2_loss: 0.0763 - loss: 0.8411 - learning_rate: 0.0099 - gradient_norm: 2.0316 - val_det_loss: 0.8018 - val_cls_loss: 0.5967 - val_box_loss: 0.0041 - val_reg_l2_loss: 0.0763 - val_loss: 0.8781\n",
      "Epoch 5/50\n",
      "19/19 [==============================] - ETA: 0s - det_loss: 0.6235 - cls_loss: 0.5033 - box_loss: 0.0024 - reg_l2_loss: 0.0763 - loss: 0.6998 - learning_rate: 0.0098 - gradient_norm: 2.0999 "
     ]
    },
    {
     "name": "stderr",
     "output_type": "stream",
     "text": [
      "2024-04-13 23:11:25.520235: W tensorflow/core/framework/dataset.cc:768] Input of GeneratorDatasetOp::Dataset will not be optimized because the dataset does not implement the AsGraphDefInternal() method needed to apply optimizations.\n"
     ]
    },
    {
     "name": "stdout",
     "output_type": "stream",
     "text": [
      "19/19 [==============================] - 341s 18s/step - det_loss: 0.6263 - cls_loss: 0.5036 - box_loss: 0.0025 - reg_l2_loss: 0.0763 - loss: 0.7026 - learning_rate: 0.0098 - gradient_norm: 2.0832 - val_det_loss: 0.7908 - val_cls_loss: 0.5695 - val_box_loss: 0.0044 - val_reg_l2_loss: 0.0763 - val_loss: 0.8672\n",
      "Epoch 6/50\n",
      "19/19 [==============================] - ETA: 0s - det_loss: 0.5979 - cls_loss: 0.4820 - box_loss: 0.0023 - reg_l2_loss: 0.0763 - loss: 0.6742 - learning_rate: 0.0097 - gradient_norm: 2.5149"
     ]
    },
    {
     "name": "stderr",
     "output_type": "stream",
     "text": [
      "2024-04-13 23:13:22.388010: W tensorflow/core/framework/dataset.cc:768] Input of GeneratorDatasetOp::Dataset will not be optimized because the dataset does not implement the AsGraphDefInternal() method needed to apply optimizations.\n"
     ]
    },
    {
     "name": "stdout",
     "output_type": "stream",
     "text": [
      "19/19 [==============================] - 106s 6s/step - det_loss: 0.6014 - cls_loss: 0.4825 - box_loss: 0.0024 - reg_l2_loss: 0.0763 - loss: 0.6778 - learning_rate: 0.0097 - gradient_norm: 2.5067 - val_det_loss: 0.6577 - val_cls_loss: 0.5198 - val_box_loss: 0.0028 - val_reg_l2_loss: 0.0763 - val_loss: 0.7340\n",
      "Epoch 7/50\n",
      "19/19 [==============================] - ETA: 0s - det_loss: 0.5843 - cls_loss: 0.4639 - box_loss: 0.0024 - reg_l2_loss: 0.0763 - loss: 0.6606 - learning_rate: 0.0096 - gradient_norm: 2.0394 "
     ]
    },
    {
     "name": "stderr",
     "output_type": "stream",
     "text": [
      "2024-04-13 23:17:24.695803: W tensorflow/core/framework/dataset.cc:768] Input of GeneratorDatasetOp::Dataset will not be optimized because the dataset does not implement the AsGraphDefInternal() method needed to apply optimizations.\n"
     ]
    },
    {
     "name": "stdout",
     "output_type": "stream",
     "text": [
      "19/19 [==============================] - 261s 14s/step - det_loss: 0.5788 - cls_loss: 0.4607 - box_loss: 0.0024 - reg_l2_loss: 0.0763 - loss: 0.6552 - learning_rate: 0.0096 - gradient_norm: 2.0155 - val_det_loss: 0.5608 - val_cls_loss: 0.4435 - val_box_loss: 0.0023 - val_reg_l2_loss: 0.0764 - val_loss: 0.6371\n",
      "Epoch 8/50\n",
      "19/19 [==============================] - ETA: 0s - det_loss: 0.4873 - cls_loss: 0.3987 - box_loss: 0.0018 - reg_l2_loss: 0.0764 - loss: 0.5637 - learning_rate: 0.0094 - gradient_norm: 1.9655 "
     ]
    },
    {
     "name": "stderr",
     "output_type": "stream",
     "text": [
      "2024-04-13 23:23:28.290000: W tensorflow/core/framework/dataset.cc:768] Input of GeneratorDatasetOp::Dataset will not be optimized because the dataset does not implement the AsGraphDefInternal() method needed to apply optimizations.\n"
     ]
    },
    {
     "name": "stdout",
     "output_type": "stream",
     "text": [
      "19/19 [==============================] - 364s 19s/step - det_loss: 0.4849 - cls_loss: 0.3971 - box_loss: 0.0018 - reg_l2_loss: 0.0764 - loss: 0.5613 - learning_rate: 0.0094 - gradient_norm: 1.9590 - val_det_loss: 0.4738 - val_cls_loss: 0.3587 - val_box_loss: 0.0023 - val_reg_l2_loss: 0.0764 - val_loss: 0.5501\n",
      "Epoch 9/50\n",
      "19/19 [==============================] - ETA: 0s - det_loss: 0.5141 - cls_loss: 0.4129 - box_loss: 0.0020 - reg_l2_loss: 0.0764 - loss: 0.5904 - learning_rate: 0.0093 - gradient_norm: 2.7829 "
     ]
    },
    {
     "name": "stderr",
     "output_type": "stream",
     "text": [
      "2024-04-13 23:29:33.565471: W tensorflow/core/framework/dataset.cc:768] Input of GeneratorDatasetOp::Dataset will not be optimized because the dataset does not implement the AsGraphDefInternal() method needed to apply optimizations.\n"
     ]
    },
    {
     "name": "stdout",
     "output_type": "stream",
     "text": [
      "19/19 [==============================] - 365s 19s/step - det_loss: 0.5117 - cls_loss: 0.4121 - box_loss: 0.0020 - reg_l2_loss: 0.0764 - loss: 0.5881 - learning_rate: 0.0093 - gradient_norm: 2.7800 - val_det_loss: 0.4847 - val_cls_loss: 0.3587 - val_box_loss: 0.0025 - val_reg_l2_loss: 0.0764 - val_loss: 0.5611\n",
      "Epoch 10/50\n",
      "19/19 [==============================] - ETA: 0s - det_loss: 0.4641 - cls_loss: 0.3715 - box_loss: 0.0019 - reg_l2_loss: 0.0764 - loss: 0.5405 - learning_rate: 0.0091 - gradient_norm: 2.4484 "
     ]
    },
    {
     "name": "stderr",
     "output_type": "stream",
     "text": [
      "2024-04-13 23:35:36.294109: W tensorflow/core/framework/dataset.cc:768] Input of GeneratorDatasetOp::Dataset will not be optimized because the dataset does not implement the AsGraphDefInternal() method needed to apply optimizations.\n"
     ]
    },
    {
     "name": "stdout",
     "output_type": "stream",
     "text": [
      "19/19 [==============================] - 389s 21s/step - det_loss: 0.4665 - cls_loss: 0.3699 - box_loss: 0.0019 - reg_l2_loss: 0.0764 - loss: 0.5429 - learning_rate: 0.0091 - gradient_norm: 2.4153 - val_det_loss: 0.5139 - val_cls_loss: 0.3636 - val_box_loss: 0.0030 - val_reg_l2_loss: 0.0764 - val_loss: 0.5903\n",
      "Epoch 11/50\n",
      "19/19 [==============================] - ETA: 0s - det_loss: 0.4295 - cls_loss: 0.3409 - box_loss: 0.0018 - reg_l2_loss: 0.0764 - loss: 0.5059 - learning_rate: 0.0089 - gradient_norm: 2.3208 "
     ]
    },
    {
     "name": "stderr",
     "output_type": "stream",
     "text": [
      "2024-04-13 23:42:14.095108: W tensorflow/core/framework/dataset.cc:768] Input of GeneratorDatasetOp::Dataset will not be optimized because the dataset does not implement the AsGraphDefInternal() method needed to apply optimizations.\n"
     ]
    },
    {
     "name": "stdout",
     "output_type": "stream",
     "text": [
      "19/19 [==============================] - 394s 21s/step - det_loss: 0.4346 - cls_loss: 0.3451 - box_loss: 0.0018 - reg_l2_loss: 0.0764 - loss: 0.5110 - learning_rate: 0.0089 - gradient_norm: 2.4489 - val_det_loss: 0.3816 - val_cls_loss: 0.2941 - val_box_loss: 0.0017 - val_reg_l2_loss: 0.0764 - val_loss: 0.4580\n",
      "Epoch 12/50\n",
      "19/19 [==============================] - ETA: 0s - det_loss: 0.3922 - cls_loss: 0.3136 - box_loss: 0.0016 - reg_l2_loss: 0.0764 - loss: 0.4687 - learning_rate: 0.0087 - gradient_norm: 2.3868 "
     ]
    },
    {
     "name": "stderr",
     "output_type": "stream",
     "text": [
      "2024-04-13 23:49:44.251613: W tensorflow/core/framework/dataset.cc:768] Input of GeneratorDatasetOp::Dataset will not be optimized because the dataset does not implement the AsGraphDefInternal() method needed to apply optimizations.\n"
     ]
    },
    {
     "name": "stdout",
     "output_type": "stream",
     "text": [
      "19/19 [==============================] - 408s 21s/step - det_loss: 0.3903 - cls_loss: 0.3110 - box_loss: 0.0016 - reg_l2_loss: 0.0764 - loss: 0.4668 - learning_rate: 0.0087 - gradient_norm: 2.3755 - val_det_loss: 0.3788 - val_cls_loss: 0.2920 - val_box_loss: 0.0017 - val_reg_l2_loss: 0.0764 - val_loss: 0.4552\n",
      "Epoch 13/50\n",
      "19/19 [==============================] - ETA: 0s - det_loss: 0.3456 - cls_loss: 0.2739 - box_loss: 0.0014 - reg_l2_loss: 0.0764 - loss: 0.4220 - learning_rate: 0.0085 - gradient_norm: 2.2867"
     ]
    },
    {
     "name": "stderr",
     "output_type": "stream",
     "text": [
      "2024-04-13 23:51:29.274931: W tensorflow/core/framework/dataset.cc:768] Input of GeneratorDatasetOp::Dataset will not be optimized because the dataset does not implement the AsGraphDefInternal() method needed to apply optimizations.\n"
     ]
    },
    {
     "name": "stdout",
     "output_type": "stream",
     "text": [
      "19/19 [==============================] - 105s 6s/step - det_loss: 0.3438 - cls_loss: 0.2723 - box_loss: 0.0014 - reg_l2_loss: 0.0764 - loss: 0.4202 - learning_rate: 0.0085 - gradient_norm: 2.2618 - val_det_loss: 0.3008 - val_cls_loss: 0.2185 - val_box_loss: 0.0016 - val_reg_l2_loss: 0.0764 - val_loss: 0.3773\n",
      "Epoch 14/50\n",
      "19/19 [==============================] - ETA: 0s - det_loss: 0.3308 - cls_loss: 0.2559 - box_loss: 0.0015 - reg_l2_loss: 0.0764 - loss: 0.4073 - learning_rate: 0.0082 - gradient_norm: 2.2519 "
     ]
    },
    {
     "name": "stderr",
     "output_type": "stream",
     "text": [
      "2024-04-13 23:56:50.187018: W tensorflow/core/framework/dataset.cc:768] Input of GeneratorDatasetOp::Dataset will not be optimized because the dataset does not implement the AsGraphDefInternal() method needed to apply optimizations.\n"
     ]
    },
    {
     "name": "stdout",
     "output_type": "stream",
     "text": [
      "19/19 [==============================] - 342s 19s/step - det_loss: 0.3299 - cls_loss: 0.2555 - box_loss: 0.0015 - reg_l2_loss: 0.0764 - loss: 0.4064 - learning_rate: 0.0082 - gradient_norm: 2.2390 - val_det_loss: 0.3408 - val_cls_loss: 0.2258 - val_box_loss: 0.0023 - val_reg_l2_loss: 0.0765 - val_loss: 0.4173\n",
      "Epoch 15/50\n",
      "19/19 [==============================] - ETA: 0s - det_loss: 0.3284 - cls_loss: 0.2542 - box_loss: 0.0015 - reg_l2_loss: 0.0765 - loss: 0.4048 - learning_rate: 0.0080 - gradient_norm: 2.5448 "
     ]
    },
    {
     "name": "stderr",
     "output_type": "stream",
     "text": [
      "2024-04-14 00:03:30.091163: W tensorflow/core/framework/dataset.cc:768] Input of GeneratorDatasetOp::Dataset will not be optimized because the dataset does not implement the AsGraphDefInternal() method needed to apply optimizations.\n"
     ]
    },
    {
     "name": "stdout",
     "output_type": "stream",
     "text": [
      "19/19 [==============================] - 425s 23s/step - det_loss: 0.3278 - cls_loss: 0.2510 - box_loss: 0.0015 - reg_l2_loss: 0.0765 - loss: 0.4043 - learning_rate: 0.0080 - gradient_norm: 2.5814 - val_det_loss: 0.3542 - val_cls_loss: 0.1992 - val_box_loss: 0.0031 - val_reg_l2_loss: 0.0765 - val_loss: 0.4306\n",
      "Epoch 16/50\n",
      "19/19 [==============================] - ETA: 0s - det_loss: 0.2914 - cls_loss: 0.2230 - box_loss: 0.0014 - reg_l2_loss: 0.0765 - loss: 0.3678 - learning_rate: 0.0077 - gradient_norm: 2.5646 "
     ]
    },
    {
     "name": "stderr",
     "output_type": "stream",
     "text": [
      "2024-04-14 00:10:07.731249: W tensorflow/core/framework/dataset.cc:768] Input of GeneratorDatasetOp::Dataset will not be optimized because the dataset does not implement the AsGraphDefInternal() method needed to apply optimizations.\n"
     ]
    },
    {
     "name": "stdout",
     "output_type": "stream",
     "text": [
      "19/19 [==============================] - 371s 20s/step - det_loss: 0.2888 - cls_loss: 0.2206 - box_loss: 0.0014 - reg_l2_loss: 0.0765 - loss: 0.3653 - learning_rate: 0.0077 - gradient_norm: 2.5861 - val_det_loss: 0.2599 - val_cls_loss: 0.1904 - val_box_loss: 0.0014 - val_reg_l2_loss: 0.0765 - val_loss: 0.3364\n",
      "Epoch 17/50\n",
      "19/19 [==============================] - ETA: 0s - det_loss: 0.2923 - cls_loss: 0.2142 - box_loss: 0.0016 - reg_l2_loss: 0.0765 - loss: 0.3688 - learning_rate: 0.0075 - gradient_norm: 2.7762 "
     ]
    },
    {
     "name": "stderr",
     "output_type": "stream",
     "text": [
      "2024-04-14 00:16:40.775470: W tensorflow/core/framework/dataset.cc:768] Input of GeneratorDatasetOp::Dataset will not be optimized because the dataset does not implement the AsGraphDefInternal() method needed to apply optimizations.\n"
     ]
    },
    {
     "name": "stdout",
     "output_type": "stream",
     "text": [
      "19/19 [==============================] - 414s 22s/step - det_loss: 0.2974 - cls_loss: 0.2178 - box_loss: 0.0016 - reg_l2_loss: 0.0765 - loss: 0.3739 - learning_rate: 0.0075 - gradient_norm: 2.7901 - val_det_loss: 0.4719 - val_cls_loss: 0.3793 - val_box_loss: 0.0019 - val_reg_l2_loss: 0.0765 - val_loss: 0.5484\n",
      "Epoch 18/50\n",
      "19/19 [==============================] - ETA: 0s - det_loss: 0.2694 - cls_loss: 0.2098 - box_loss: 0.0012 - reg_l2_loss: 0.0765 - loss: 0.3459 - learning_rate: 0.0072 - gradient_norm: 2.1471 "
     ]
    },
    {
     "name": "stderr",
     "output_type": "stream",
     "text": [
      "2024-04-14 00:23:06.490105: W tensorflow/core/framework/dataset.cc:768] Input of GeneratorDatasetOp::Dataset will not be optimized because the dataset does not implement the AsGraphDefInternal() method needed to apply optimizations.\n"
     ]
    },
    {
     "name": "stdout",
     "output_type": "stream",
     "text": [
      "19/19 [==============================] - 346s 18s/step - det_loss: 0.2702 - cls_loss: 0.2112 - box_loss: 0.0012 - reg_l2_loss: 0.0765 - loss: 0.3467 - learning_rate: 0.0072 - gradient_norm: 2.1172 - val_det_loss: 0.2740 - val_cls_loss: 0.1933 - val_box_loss: 0.0016 - val_reg_l2_loss: 0.0765 - val_loss: 0.3505\n",
      "Epoch 19/50\n",
      "19/19 [==============================] - ETA: 0s - det_loss: 0.2665 - cls_loss: 0.2001 - box_loss: 0.0013 - reg_l2_loss: 0.0765 - loss: 0.3431 - learning_rate: 0.0069 - gradient_norm: 2.1427"
     ]
    },
    {
     "name": "stderr",
     "output_type": "stream",
     "text": [
      "2024-04-14 00:25:20.762595: W tensorflow/core/framework/dataset.cc:768] Input of GeneratorDatasetOp::Dataset will not be optimized because the dataset does not implement the AsGraphDefInternal() method needed to apply optimizations.\n"
     ]
    },
    {
     "name": "stdout",
     "output_type": "stream",
     "text": [
      "19/19 [==============================] - 154s 8s/step - det_loss: 0.2660 - cls_loss: 0.1991 - box_loss: 0.0013 - reg_l2_loss: 0.0765 - loss: 0.3425 - learning_rate: 0.0069 - gradient_norm: 2.1329 - val_det_loss: 0.2950 - val_cls_loss: 0.1891 - val_box_loss: 0.0021 - val_reg_l2_loss: 0.0765 - val_loss: 0.3715\n",
      "Epoch 20/50\n",
      "19/19 [==============================] - ETA: 0s - det_loss: 0.2758 - cls_loss: 0.2094 - box_loss: 0.0013 - reg_l2_loss: 0.0765 - loss: 0.3523 - learning_rate: 0.0066 - gradient_norm: 3.2066 "
     ]
    },
    {
     "name": "stderr",
     "output_type": "stream",
     "text": [
      "2024-04-14 00:31:32.890472: W tensorflow/core/framework/dataset.cc:768] Input of GeneratorDatasetOp::Dataset will not be optimized because the dataset does not implement the AsGraphDefInternal() method needed to apply optimizations.\n",
      "2024-04-14 00:32:21.629855: W tensorflow/core/framework/dataset.cc:768] Input of GeneratorDatasetOp::Dataset will not be optimized because the dataset does not implement the AsGraphDefInternal() method needed to apply optimizations.\n"
     ]
    },
    {
     "name": "stdout",
     "output_type": "stream",
     "text": [
      "19/19 [==============================] - 434s 23s/step - det_loss: 0.2780 - cls_loss: 0.2104 - box_loss: 0.0014 - reg_l2_loss: 0.0765 - loss: 0.3546 - learning_rate: 0.0066 - gradient_norm: 3.1573 - val_det_loss: 0.3278 - val_cls_loss: 0.2408 - val_box_loss: 0.0017 - val_reg_l2_loss: 0.0765 - val_loss: 0.4043\n",
      "Epoch 21/50\n",
      "19/19 [==============================] - ETA: 0s - det_loss: 0.2603 - cls_loss: 0.2008 - box_loss: 0.0012 - reg_l2_loss: 0.0765 - loss: 0.3368 - learning_rate: 0.0063 - gradient_norm: 2.2073 "
     ]
    },
    {
     "name": "stderr",
     "output_type": "stream",
     "text": [
      "2024-04-14 00:38:40.613496: W tensorflow/core/framework/dataset.cc:768] Input of GeneratorDatasetOp::Dataset will not be optimized because the dataset does not implement the AsGraphDefInternal() method needed to apply optimizations.\n"
     ]
    },
    {
     "name": "stdout",
     "output_type": "stream",
     "text": [
      "19/19 [==============================] - 367s 19s/step - det_loss: 0.2617 - cls_loss: 0.2023 - box_loss: 0.0012 - reg_l2_loss: 0.0765 - loss: 0.3382 - learning_rate: 0.0063 - gradient_norm: 2.2862 - val_det_loss: 0.3274 - val_cls_loss: 0.2376 - val_box_loss: 0.0018 - val_reg_l2_loss: 0.0765 - val_loss: 0.4040\n",
      "Epoch 22/50\n",
      "19/19 [==============================] - ETA: 0s - det_loss: 0.2595 - cls_loss: 0.1959 - box_loss: 0.0013 - reg_l2_loss: 0.0766 - loss: 0.3361 - learning_rate: 0.0060 - gradient_norm: 2.7171 "
     ]
    },
    {
     "name": "stderr",
     "output_type": "stream",
     "text": [
      "2024-04-14 00:44:40.476520: W tensorflow/core/framework/dataset.cc:768] Input of GeneratorDatasetOp::Dataset will not be optimized because the dataset does not implement the AsGraphDefInternal() method needed to apply optimizations.\n"
     ]
    },
    {
     "name": "stdout",
     "output_type": "stream",
     "text": [
      "19/19 [==============================] - 359s 19s/step - det_loss: 0.2572 - cls_loss: 0.1944 - box_loss: 0.0013 - reg_l2_loss: 0.0766 - loss: 0.3338 - learning_rate: 0.0060 - gradient_norm: 2.6855 - val_det_loss: 0.2818 - val_cls_loss: 0.2119 - val_box_loss: 0.0014 - val_reg_l2_loss: 0.0766 - val_loss: 0.3584\n",
      "Epoch 23/50\n",
      "19/19 [==============================] - ETA: 0s - det_loss: 0.2634 - cls_loss: 0.2044 - box_loss: 0.0012 - reg_l2_loss: 0.0766 - loss: 0.3399 - learning_rate: 0.0056 - gradient_norm: 2.6783 "
     ]
    },
    {
     "name": "stderr",
     "output_type": "stream",
     "text": [
      "2024-04-14 00:49:30.502775: W tensorflow/core/framework/dataset.cc:768] Input of GeneratorDatasetOp::Dataset will not be optimized because the dataset does not implement the AsGraphDefInternal() method needed to apply optimizations.\n"
     ]
    },
    {
     "name": "stdout",
     "output_type": "stream",
     "text": [
      "19/19 [==============================] - 271s 14s/step - det_loss: 0.2641 - cls_loss: 0.2045 - box_loss: 0.0012 - reg_l2_loss: 0.0766 - loss: 0.3407 - learning_rate: 0.0056 - gradient_norm: 2.7275 - val_det_loss: 0.2334 - val_cls_loss: 0.1694 - val_box_loss: 0.0013 - val_reg_l2_loss: 0.0766 - val_loss: 0.3100\n",
      "Epoch 24/50\n",
      "19/19 [==============================] - ETA: 0s - det_loss: 0.2113 - cls_loss: 0.1568 - box_loss: 0.0011 - reg_l2_loss: 0.0766 - loss: 0.2878 - learning_rate: 0.0053 - gradient_norm: 1.6480 "
     ]
    },
    {
     "name": "stderr",
     "output_type": "stream",
     "text": [
      "2024-04-14 00:53:44.923908: W tensorflow/core/framework/dataset.cc:768] Input of GeneratorDatasetOp::Dataset will not be optimized because the dataset does not implement the AsGraphDefInternal() method needed to apply optimizations.\n"
     ]
    },
    {
     "name": "stdout",
     "output_type": "stream",
     "text": [
      "19/19 [==============================] - 274s 15s/step - det_loss: 0.2132 - cls_loss: 0.1582 - box_loss: 0.0011 - reg_l2_loss: 0.0766 - loss: 0.2897 - learning_rate: 0.0053 - gradient_norm: 1.6468 - val_det_loss: 0.2107 - val_cls_loss: 0.1602 - val_box_loss: 0.0010 - val_reg_l2_loss: 0.0766 - val_loss: 0.2873\n",
      "Epoch 25/50\n",
      "19/19 [==============================] - ETA: 0s - det_loss: 0.2288 - cls_loss: 0.1734 - box_loss: 0.0011 - reg_l2_loss: 0.0766 - loss: 0.3054 - learning_rate: 0.0050 - gradient_norm: 1.9202 "
     ]
    },
    {
     "name": "stderr",
     "output_type": "stream",
     "text": [
      "2024-04-14 00:59:44.310248: W tensorflow/core/framework/dataset.cc:768] Input of GeneratorDatasetOp::Dataset will not be optimized because the dataset does not implement the AsGraphDefInternal() method needed to apply optimizations.\n"
     ]
    },
    {
     "name": "stdout",
     "output_type": "stream",
     "text": [
      "19/19 [==============================] - 384s 20s/step - det_loss: 0.2331 - cls_loss: 0.1774 - box_loss: 0.0011 - reg_l2_loss: 0.0766 - loss: 0.3097 - learning_rate: 0.0050 - gradient_norm: 2.0407 - val_det_loss: 0.2397 - val_cls_loss: 0.1577 - val_box_loss: 0.0016 - val_reg_l2_loss: 0.0766 - val_loss: 0.3163\n",
      "Epoch 26/50\n",
      "19/19 [==============================] - ETA: 0s - det_loss: 0.2144 - cls_loss: 0.1645 - box_loss: 9.9759e-04 - reg_l2_loss: 0.0766 - loss: 0.2910 - learning_rate: 0.0047 - gradient_norm: 1.9720"
     ]
    },
    {
     "name": "stderr",
     "output_type": "stream",
     "text": [
      "2024-04-14 01:06:18.071435: W tensorflow/core/framework/dataset.cc:768] Input of GeneratorDatasetOp::Dataset will not be optimized because the dataset does not implement the AsGraphDefInternal() method needed to apply optimizations.\n"
     ]
    },
    {
     "name": "stdout",
     "output_type": "stream",
     "text": [
      "19/19 [==============================] - 369s 20s/step - det_loss: 0.2143 - cls_loss: 0.1652 - box_loss: 9.8181e-04 - reg_l2_loss: 0.0766 - loss: 0.2909 - learning_rate: 0.0047 - gradient_norm: 2.0553 - val_det_loss: 0.2264 - val_cls_loss: 0.1526 - val_box_loss: 0.0015 - val_reg_l2_loss: 0.0766 - val_loss: 0.3029\n",
      "Epoch 27/50\n",
      "19/19 [==============================] - ETA: 0s - det_loss: 0.2243 - cls_loss: 0.1682 - box_loss: 0.0011 - reg_l2_loss: 0.0766 - loss: 0.3009 - learning_rate: 0.0044 - gradient_norm: 2.8026 "
     ]
    },
    {
     "name": "stderr",
     "output_type": "stream",
     "text": [
      "2024-04-14 01:10:05.135968: W tensorflow/core/framework/dataset.cc:768] Input of GeneratorDatasetOp::Dataset will not be optimized because the dataset does not implement the AsGraphDefInternal() method needed to apply optimizations.\n"
     ]
    },
    {
     "name": "stdout",
     "output_type": "stream",
     "text": [
      "19/19 [==============================] - 208s 11s/step - det_loss: 0.2255 - cls_loss: 0.1686 - box_loss: 0.0011 - reg_l2_loss: 0.0766 - loss: 0.3021 - learning_rate: 0.0044 - gradient_norm: 2.7232 - val_det_loss: 0.2331 - val_cls_loss: 0.1671 - val_box_loss: 0.0013 - val_reg_l2_loss: 0.0766 - val_loss: 0.3097\n",
      "Epoch 28/50\n",
      "19/19 [==============================] - ETA: 0s - det_loss: 0.2159 - cls_loss: 0.1642 - box_loss: 0.0010 - reg_l2_loss: 0.0766 - loss: 0.2925 - learning_rate: 0.0041 - gradient_norm: 2.4440  "
     ]
    },
    {
     "name": "stderr",
     "output_type": "stream",
     "text": [
      "2024-04-14 01:13:15.969106: W tensorflow/core/framework/dataset.cc:768] Input of GeneratorDatasetOp::Dataset will not be optimized because the dataset does not implement the AsGraphDefInternal() method needed to apply optimizations.\n"
     ]
    },
    {
     "name": "stdout",
     "output_type": "stream",
     "text": [
      "19/19 [==============================] - 211s 11s/step - det_loss: 0.2198 - cls_loss: 0.1674 - box_loss: 0.0010 - reg_l2_loss: 0.0766 - loss: 0.2964 - learning_rate: 0.0040 - gradient_norm: 2.4551 - val_det_loss: 0.2040 - val_cls_loss: 0.1511 - val_box_loss: 0.0011 - val_reg_l2_loss: 0.0766 - val_loss: 0.2805\n",
      "Epoch 29/50\n",
      "19/19 [==============================] - ETA: 0s - det_loss: 0.2125 - cls_loss: 0.1555 - box_loss: 0.0011 - reg_l2_loss: 0.0766 - loss: 0.2891 - learning_rate: 0.0037 - gradient_norm: 1.8603 "
     ]
    },
    {
     "name": "stderr",
     "output_type": "stream",
     "text": [
      "2024-04-14 01:19:23.095267: W tensorflow/core/framework/dataset.cc:768] Input of GeneratorDatasetOp::Dataset will not be optimized because the dataset does not implement the AsGraphDefInternal() method needed to apply optimizations.\n"
     ]
    },
    {
     "name": "stdout",
     "output_type": "stream",
     "text": [
      "19/19 [==============================] - 379s 20s/step - det_loss: 0.2157 - cls_loss: 0.1572 - box_loss: 0.0012 - reg_l2_loss: 0.0766 - loss: 0.2923 - learning_rate: 0.0037 - gradient_norm: 1.8661 - val_det_loss: 0.2035 - val_cls_loss: 0.1482 - val_box_loss: 0.0011 - val_reg_l2_loss: 0.0766 - val_loss: 0.2801\n",
      "Epoch 30/50\n",
      "19/19 [==============================] - ETA: 0s - det_loss: 0.1969 - cls_loss: 0.1490 - box_loss: 9.5892e-04 - reg_l2_loss: 0.0766 - loss: 0.2735 - learning_rate: 0.0034 - gradient_norm: 1.8665 "
     ]
    },
    {
     "name": "stderr",
     "output_type": "stream",
     "text": [
      "2024-04-14 01:26:09.344801: W tensorflow/core/framework/dataset.cc:768] Input of GeneratorDatasetOp::Dataset will not be optimized because the dataset does not implement the AsGraphDefInternal() method needed to apply optimizations.\n"
     ]
    },
    {
     "name": "stdout",
     "output_type": "stream",
     "text": [
      "19/19 [==============================] - 386s 20s/step - det_loss: 0.1968 - cls_loss: 0.1487 - box_loss: 9.6085e-04 - reg_l2_loss: 0.0766 - loss: 0.2734 - learning_rate: 0.0034 - gradient_norm: 1.9479 - val_det_loss: 0.2210 - val_cls_loss: 0.1451 - val_box_loss: 0.0015 - val_reg_l2_loss: 0.0766 - val_loss: 0.2976\n",
      "Epoch 31/50\n",
      "19/19 [==============================] - ETA: 0s - det_loss: 0.2107 - cls_loss: 0.1599 - box_loss: 0.0010 - reg_l2_loss: 0.0766 - loss: 0.2873 - learning_rate: 0.0031 - gradient_norm: 1.6963    "
     ]
    },
    {
     "name": "stderr",
     "output_type": "stream",
     "text": [
      "2024-04-14 01:28:05.612743: W tensorflow/core/framework/dataset.cc:768] Input of GeneratorDatasetOp::Dataset will not be optimized because the dataset does not implement the AsGraphDefInternal() method needed to apply optimizations.\n"
     ]
    },
    {
     "name": "stdout",
     "output_type": "stream",
     "text": [
      "19/19 [==============================] - 105s 6s/step - det_loss: 0.2120 - cls_loss: 0.1597 - box_loss: 0.0010 - reg_l2_loss: 0.0766 - loss: 0.2886 - learning_rate: 0.0031 - gradient_norm: 1.7201 - val_det_loss: 0.1963 - val_cls_loss: 0.1368 - val_box_loss: 0.0012 - val_reg_l2_loss: 0.0766 - val_loss: 0.2728\n",
      "Epoch 32/50\n",
      "19/19 [==============================] - ETA: 0s - det_loss: 0.1987 - cls_loss: 0.1465 - box_loss: 0.0010 - reg_l2_loss: 0.0766 - loss: 0.2753 - learning_rate: 0.0028 - gradient_norm: 2.1155 "
     ]
    },
    {
     "name": "stderr",
     "output_type": "stream",
     "text": [
      "2024-04-14 01:31:32.591951: W tensorflow/core/framework/dataset.cc:768] Input of GeneratorDatasetOp::Dataset will not be optimized because the dataset does not implement the AsGraphDefInternal() method needed to apply optimizations.\n"
     ]
    },
    {
     "name": "stdout",
     "output_type": "stream",
     "text": [
      "19/19 [==============================] - 226s 12s/step - det_loss: 0.1967 - cls_loss: 0.1458 - box_loss: 0.0010 - reg_l2_loss: 0.0766 - loss: 0.2733 - learning_rate: 0.0028 - gradient_norm: 2.0895 - val_det_loss: 0.1824 - val_cls_loss: 0.1414 - val_box_loss: 8.2039e-04 - val_reg_l2_loss: 0.0766 - val_loss: 0.2590\n",
      "Epoch 33/50\n",
      "19/19 [==============================] - ETA: 0s - det_loss: 0.1938 - cls_loss: 0.1437 - box_loss: 0.0010 - reg_l2_loss: 0.0766 - loss: 0.2704 - learning_rate: 0.0026 - gradient_norm: 1.5151     "
     ]
    },
    {
     "name": "stderr",
     "output_type": "stream",
     "text": [
      "2024-04-14 01:38:49.577543: W tensorflow/core/framework/dataset.cc:768] Input of GeneratorDatasetOp::Dataset will not be optimized because the dataset does not implement the AsGraphDefInternal() method needed to apply optimizations.\n"
     ]
    },
    {
     "name": "stdout",
     "output_type": "stream",
     "text": [
      "19/19 [==============================] - 448s 24s/step - det_loss: 0.1921 - cls_loss: 0.1420 - box_loss: 0.0010 - reg_l2_loss: 0.0766 - loss: 0.2687 - learning_rate: 0.0025 - gradient_norm: 1.5077 - val_det_loss: 0.1847 - val_cls_loss: 0.1357 - val_box_loss: 9.7923e-04 - val_reg_l2_loss: 0.0766 - val_loss: 0.2612\n",
      "Epoch 34/50\n",
      "19/19 [==============================] - ETA: 0s - det_loss: 0.1758 - cls_loss: 0.1336 - box_loss: 8.4296e-04 - reg_l2_loss: 0.0766 - loss: 0.2524 - learning_rate: 0.0023 - gradient_norm: 1.7047 "
     ]
    },
    {
     "name": "stderr",
     "output_type": "stream",
     "text": [
      "2024-04-14 01:45:04.124714: W tensorflow/core/framework/dataset.cc:768] Input of GeneratorDatasetOp::Dataset will not be optimized because the dataset does not implement the AsGraphDefInternal() method needed to apply optimizations.\n"
     ]
    },
    {
     "name": "stdout",
     "output_type": "stream",
     "text": [
      "19/19 [==============================] - 363s 19s/step - det_loss: 0.1756 - cls_loss: 0.1330 - box_loss: 8.5208e-04 - reg_l2_loss: 0.0766 - loss: 0.2521 - learning_rate: 0.0023 - gradient_norm: 1.6792 - val_det_loss: 0.1980 - val_cls_loss: 0.1360 - val_box_loss: 0.0012 - val_reg_l2_loss: 0.0766 - val_loss: 0.2746\n",
      "Epoch 35/50\n",
      "19/19 [==============================] - ETA: 0s - det_loss: 0.1916 - cls_loss: 0.1414 - box_loss: 0.0010 - reg_l2_loss: 0.0766 - loss: 0.2682 - learning_rate: 0.0020 - gradient_norm: 1.5883   "
     ]
    },
    {
     "name": "stderr",
     "output_type": "stream",
     "text": [
      "2024-04-14 01:49:20.643094: W tensorflow/core/framework/dataset.cc:768] Input of GeneratorDatasetOp::Dataset will not be optimized because the dataset does not implement the AsGraphDefInternal() method needed to apply optimizations.\n"
     ]
    },
    {
     "name": "stdout",
     "output_type": "stream",
     "text": [
      "19/19 [==============================] - 245s 13s/step - det_loss: 0.1913 - cls_loss: 0.1411 - box_loss: 0.0010 - reg_l2_loss: 0.0766 - loss: 0.2679 - learning_rate: 0.0020 - gradient_norm: 1.6683 - val_det_loss: 0.1912 - val_cls_loss: 0.1407 - val_box_loss: 0.0010 - val_reg_l2_loss: 0.0766 - val_loss: 0.2678\n",
      "Epoch 36/50\n",
      "19/19 [==============================] - ETA: 0s - det_loss: 0.1906 - cls_loss: 0.1467 - box_loss: 8.7935e-04 - reg_l2_loss: 0.0766 - loss: 0.2672 - learning_rate: 0.0018 - gradient_norm: 1.6271"
     ]
    },
    {
     "name": "stderr",
     "output_type": "stream",
     "text": [
      "2024-04-14 01:52:55.669880: W tensorflow/core/framework/dataset.cc:768] Input of GeneratorDatasetOp::Dataset will not be optimized because the dataset does not implement the AsGraphDefInternal() method needed to apply optimizations.\n"
     ]
    },
    {
     "name": "stdout",
     "output_type": "stream",
     "text": [
      "19/19 [==============================] - 230s 12s/step - det_loss: 0.1906 - cls_loss: 0.1462 - box_loss: 8.8796e-04 - reg_l2_loss: 0.0766 - loss: 0.2671 - learning_rate: 0.0018 - gradient_norm: 1.6082 - val_det_loss: 0.1878 - val_cls_loss: 0.1306 - val_box_loss: 0.0011 - val_reg_l2_loss: 0.0766 - val_loss: 0.2643\n",
      "Epoch 37/50\n",
      "19/19 [==============================] - ETA: 0s - det_loss: 0.1858 - cls_loss: 0.1440 - box_loss: 8.3761e-04 - reg_l2_loss: 0.0766 - loss: 0.2624 - learning_rate: 0.0015 - gradient_norm: 1.8184 "
     ]
    },
    {
     "name": "stderr",
     "output_type": "stream",
     "text": [
      "2024-04-14 01:59:07.410925: W tensorflow/core/framework/dataset.cc:768] Input of GeneratorDatasetOp::Dataset will not be optimized because the dataset does not implement the AsGraphDefInternal() method needed to apply optimizations.\n"
     ]
    },
    {
     "name": "stdout",
     "output_type": "stream",
     "text": [
      "19/19 [==============================] - 369s 20s/step - det_loss: 0.1868 - cls_loss: 0.1456 - box_loss: 8.2300e-04 - reg_l2_loss: 0.0766 - loss: 0.2634 - learning_rate: 0.0015 - gradient_norm: 1.9484 - val_det_loss: 0.1780 - val_cls_loss: 0.1285 - val_box_loss: 9.8991e-04 - val_reg_l2_loss: 0.0766 - val_loss: 0.2546\n",
      "Epoch 38/50\n",
      "19/19 [==============================] - ETA: 0s - det_loss: 0.1819 - cls_loss: 0.1351 - box_loss: 9.3496e-04 - reg_l2_loss: 0.0766 - loss: 0.2584 - learning_rate: 0.0013 - gradient_norm: 1.4765 "
     ]
    },
    {
     "name": "stderr",
     "output_type": "stream",
     "text": [
      "2024-04-14 02:05:05.260575: W tensorflow/core/framework/dataset.cc:768] Input of GeneratorDatasetOp::Dataset will not be optimized because the dataset does not implement the AsGraphDefInternal() method needed to apply optimizations.\n"
     ]
    },
    {
     "name": "stdout",
     "output_type": "stream",
     "text": [
      "19/19 [==============================] - 358s 19s/step - det_loss: 0.1853 - cls_loss: 0.1371 - box_loss: 9.6325e-04 - reg_l2_loss: 0.0766 - loss: 0.2619 - learning_rate: 0.0013 - gradient_norm: 1.5007 - val_det_loss: 0.1746 - val_cls_loss: 0.1266 - val_box_loss: 9.6054e-04 - val_reg_l2_loss: 0.0766 - val_loss: 0.2512\n",
      "Epoch 39/50\n",
      "19/19 [==============================] - ETA: 0s - det_loss: 0.1886 - cls_loss: 0.1397 - box_loss: 9.7690e-04 - reg_l2_loss: 0.0766 - loss: 0.2652 - learning_rate: 0.0011 - gradient_norm: 2.3948 "
     ]
    },
    {
     "name": "stderr",
     "output_type": "stream",
     "text": [
      "2024-04-14 02:09:30.035370: W tensorflow/core/framework/dataset.cc:768] Input of GeneratorDatasetOp::Dataset will not be optimized because the dataset does not implement the AsGraphDefInternal() method needed to apply optimizations.\n"
     ]
    },
    {
     "name": "stdout",
     "output_type": "stream",
     "text": [
      "19/19 [==============================] - 245s 13s/step - det_loss: 0.1892 - cls_loss: 0.1397 - box_loss: 9.8904e-04 - reg_l2_loss: 0.0766 - loss: 0.2658 - learning_rate: 0.0011 - gradient_norm: 2.3519 - val_det_loss: 0.1700 - val_cls_loss: 0.1304 - val_box_loss: 7.9160e-04 - val_reg_l2_loss: 0.0766 - val_loss: 0.2466\n",
      "Epoch 40/50\n",
      "19/19 [==============================] - ETA: 0s - det_loss: 0.1955 - cls_loss: 0.1460 - box_loss: 9.8893e-04 - reg_l2_loss: 0.0766 - loss: 0.2720 - learning_rate: 9.0467e-04 - gradient_norm: 1.6611"
     ]
    },
    {
     "name": "stderr",
     "output_type": "stream",
     "text": [
      "2024-04-14 02:12:29.607353: W tensorflow/core/framework/dataset.cc:768] Input of GeneratorDatasetOp::Dataset will not be optimized because the dataset does not implement the AsGraphDefInternal() method needed to apply optimizations.\n"
     ]
    },
    {
     "name": "stdout",
     "output_type": "stream",
     "text": [
      "19/19 [==============================] - 225s 12s/step - det_loss: 0.1953 - cls_loss: 0.1456 - box_loss: 9.9246e-04 - reg_l2_loss: 0.0766 - loss: 0.2719 - learning_rate: 9.0038e-04 - gradient_norm: 1.6534 - val_det_loss: 0.1868 - val_cls_loss: 0.1323 - val_box_loss: 0.0011 - val_reg_l2_loss: 0.0766 - val_loss: 0.2634\n",
      "Epoch 41/50\n",
      "19/19 [==============================] - ETA: 0s - det_loss: 0.1755 - cls_loss: 0.1320 - box_loss: 8.7008e-04 - reg_l2_loss: 0.0766 - loss: 0.2521 - learning_rate: 7.2939e-04 - gradient_norm: 1.4596 "
     ]
    },
    {
     "name": "stderr",
     "output_type": "stream",
     "text": [
      "2024-04-14 02:19:00.195556: W tensorflow/core/framework/dataset.cc:768] Input of GeneratorDatasetOp::Dataset will not be optimized because the dataset does not implement the AsGraphDefInternal() method needed to apply optimizations.\n"
     ]
    },
    {
     "name": "stdout",
     "output_type": "stream",
     "text": [
      "19/19 [==============================] - 365s 19s/step - det_loss: 0.1779 - cls_loss: 0.1330 - box_loss: 8.9879e-04 - reg_l2_loss: 0.0766 - loss: 0.2545 - learning_rate: 7.2551e-04 - gradient_norm: 1.4468 - val_det_loss: 0.1657 - val_cls_loss: 0.1255 - val_box_loss: 8.0403e-04 - val_reg_l2_loss: 0.0766 - val_loss: 0.2423\n",
      "Epoch 42/50\n",
      "19/19 [==============================] - ETA: 0s - det_loss: 0.1908 - cls_loss: 0.1426 - box_loss: 9.6440e-04 - reg_l2_loss: 0.0766 - loss: 0.2674 - learning_rate: 5.7167e-04 - gradient_norm: 1.7204 "
     ]
    },
    {
     "name": "stderr",
     "output_type": "stream",
     "text": [
      "2024-04-14 02:25:31.625108: W tensorflow/core/framework/dataset.cc:768] Input of GeneratorDatasetOp::Dataset will not be optimized because the dataset does not implement the AsGraphDefInternal() method needed to apply optimizations.\n"
     ]
    },
    {
     "name": "stdout",
     "output_type": "stream",
     "text": [
      "19/19 [==============================] - 402s 21s/step - det_loss: 0.1895 - cls_loss: 0.1416 - box_loss: 9.5859e-04 - reg_l2_loss: 0.0766 - loss: 0.2661 - learning_rate: 5.6821e-04 - gradient_norm: 1.6839 - val_det_loss: 0.1636 - val_cls_loss: 0.1226 - val_box_loss: 8.2088e-04 - val_reg_l2_loss: 0.0766 - val_loss: 0.2402\n",
      "Epoch 43/50\n",
      "19/19 [==============================] - ETA: 0s - det_loss: 0.1670 - cls_loss: 0.1285 - box_loss: 7.6961e-04 - reg_l2_loss: 0.0766 - loss: 0.2436 - learning_rate: 4.3214e-04 - gradient_norm: 1.3810 "
     ]
    },
    {
     "name": "stderr",
     "output_type": "stream",
     "text": [
      "2024-04-14 02:32:04.371031: W tensorflow/core/framework/dataset.cc:768] Input of GeneratorDatasetOp::Dataset will not be optimized because the dataset does not implement the AsGraphDefInternal() method needed to apply optimizations.\n"
     ]
    },
    {
     "name": "stdout",
     "output_type": "stream",
     "text": [
      "19/19 [==============================] - 383s 20s/step - det_loss: 0.1653 - cls_loss: 0.1277 - box_loss: 7.5132e-04 - reg_l2_loss: 0.0766 - loss: 0.2418 - learning_rate: 4.2912e-04 - gradient_norm: 1.3644 - val_det_loss: 0.1579 - val_cls_loss: 0.1203 - val_box_loss: 7.5183e-04 - val_reg_l2_loss: 0.0766 - val_loss: 0.2345\n",
      "Epoch 44/50\n",
      "19/19 [==============================] - ETA: 0s - det_loss: 0.1815 - cls_loss: 0.1359 - box_loss: 9.1214e-04 - reg_l2_loss: 0.0766 - loss: 0.2581 - learning_rate: 3.1138e-04 - gradient_norm: 1.4700 "
     ]
    },
    {
     "name": "stderr",
     "output_type": "stream",
     "text": [
      "2024-04-14 02:37:14.930298: W tensorflow/core/framework/dataset.cc:768] Input of GeneratorDatasetOp::Dataset will not be optimized because the dataset does not implement the AsGraphDefInternal() method needed to apply optimizations.\n"
     ]
    },
    {
     "name": "stdout",
     "output_type": "stream",
     "text": [
      "19/19 [==============================] - 291s 15s/step - det_loss: 0.1847 - cls_loss: 0.1368 - box_loss: 9.5675e-04 - reg_l2_loss: 0.0766 - loss: 0.2612 - learning_rate: 3.0881e-04 - gradient_norm: 1.4718 - val_det_loss: 0.1602 - val_cls_loss: 0.1204 - val_box_loss: 7.9527e-04 - val_reg_l2_loss: 0.0766 - val_loss: 0.2367\n",
      "Epoch 45/50\n",
      "19/19 [==============================] - ETA: 0s - det_loss: 0.1782 - cls_loss: 0.1352 - box_loss: 8.5989e-04 - reg_l2_loss: 0.0766 - loss: 0.2548 - learning_rate: 2.0989e-04 - gradient_norm: 1.9701"
     ]
    },
    {
     "name": "stderr",
     "output_type": "stream",
     "text": [
      "2024-04-14 02:39:03.482209: W tensorflow/core/framework/dataset.cc:768] Input of GeneratorDatasetOp::Dataset will not be optimized because the dataset does not implement the AsGraphDefInternal() method needed to apply optimizations.\n"
     ]
    },
    {
     "name": "stdout",
     "output_type": "stream",
     "text": [
      "19/19 [==============================] - 117s 6s/step - det_loss: 0.1776 - cls_loss: 0.1346 - box_loss: 8.5955e-04 - reg_l2_loss: 0.0766 - loss: 0.2541 - learning_rate: 2.0778e-04 - gradient_norm: 1.9441 - val_det_loss: 0.1602 - val_cls_loss: 0.1208 - val_box_loss: 7.8795e-04 - val_reg_l2_loss: 0.0766 - val_loss: 0.2368\n",
      "Epoch 46/50\n",
      "19/19 [==============================] - ETA: 0s - det_loss: 0.1906 - cls_loss: 0.1401 - box_loss: 0.0010 - reg_l2_loss: 0.0766 - loss: 0.2672 - learning_rate: 1.2808e-04 - gradient_norm: 1.9558 "
     ]
    },
    {
     "name": "stderr",
     "output_type": "stream",
     "text": [
      "2024-04-14 02:46:20.904662: W tensorflow/core/framework/dataset.cc:768] Input of GeneratorDatasetOp::Dataset will not be optimized because the dataset does not implement the AsGraphDefInternal() method needed to apply optimizations.\n"
     ]
    },
    {
     "name": "stdout",
     "output_type": "stream",
     "text": [
      "19/19 [==============================] - 462s 25s/step - det_loss: 0.1900 - cls_loss: 0.1397 - box_loss: 0.0010 - reg_l2_loss: 0.0766 - loss: 0.2666 - learning_rate: 1.2645e-04 - gradient_norm: 1.9455 - val_det_loss: 0.1564 - val_cls_loss: 0.1200 - val_box_loss: 7.2822e-04 - val_reg_l2_loss: 0.0766 - val_loss: 0.2330\n",
      "Epoch 47/50\n",
      "19/19 [==============================] - ETA: 0s - det_loss: 0.1970 - cls_loss: 0.1487 - box_loss: 9.6761e-04 - reg_l2_loss: 0.0766 - loss: 0.2736 - learning_rate: 6.6287e-05 - gradient_norm: 1.7092 "
     ]
    },
    {
     "name": "stderr",
     "output_type": "stream",
     "text": [
      "2024-04-14 02:53:18.582827: W tensorflow/core/framework/dataset.cc:768] Input of GeneratorDatasetOp::Dataset will not be optimized because the dataset does not implement the AsGraphDefInternal() method needed to apply optimizations.\n"
     ]
    },
    {
     "name": "stdout",
     "output_type": "stream",
     "text": [
      "19/19 [==============================] - 404s 21s/step - det_loss: 0.1957 - cls_loss: 0.1479 - box_loss: 9.5724e-04 - reg_l2_loss: 0.0766 - loss: 0.2723 - learning_rate: 6.5135e-05 - gradient_norm: 1.6890 - val_det_loss: 0.1551 - val_cls_loss: 0.1194 - val_box_loss: 7.1461e-04 - val_reg_l2_loss: 0.0766 - val_loss: 0.2317\n",
      "Epoch 48/50\n",
      "19/19 [==============================] - ETA: 0s - det_loss: 0.1839 - cls_loss: 0.1379 - box_loss: 9.2090e-04 - reg_l2_loss: 0.0766 - loss: 0.2605 - learning_rate: 2.4771e-05 - gradient_norm: 1.7307 "
     ]
    },
    {
     "name": "stderr",
     "output_type": "stream",
     "text": [
      "2024-04-14 02:57:02.220420: W tensorflow/core/framework/dataset.cc:768] Input of GeneratorDatasetOp::Dataset will not be optimized because the dataset does not implement the AsGraphDefInternal() method needed to apply optimizations.\n"
     ]
    },
    {
     "name": "stdout",
     "output_type": "stream",
     "text": [
      "19/19 [==============================] - 204s 10s/step - det_loss: 0.1863 - cls_loss: 0.1386 - box_loss: 9.5434e-04 - reg_l2_loss: 0.0766 - loss: 0.2629 - learning_rate: 2.4102e-05 - gradient_norm: 1.7153 - val_det_loss: 0.1550 - val_cls_loss: 0.1192 - val_box_loss: 7.1501e-04 - val_reg_l2_loss: 0.0766 - val_loss: 0.2315\n",
      "Epoch 49/50\n",
      "19/19 [==============================] - ETA: 0s - det_loss: 0.1802 - cls_loss: 0.1372 - box_loss: 8.5898e-04 - reg_l2_loss: 0.0766 - loss: 0.2567 - learning_rate: 3.6999e-06 - gradient_norm: 1.4861"
     ]
    },
    {
     "name": "stderr",
     "output_type": "stream",
     "text": [
      "2024-04-14 02:59:31.601098: W tensorflow/core/framework/dataset.cc:768] Input of GeneratorDatasetOp::Dataset will not be optimized because the dataset does not implement the AsGraphDefInternal() method needed to apply optimizations.\n"
     ]
    },
    {
     "name": "stdout",
     "output_type": "stream",
     "text": [
      "19/19 [==============================] - 169s 9s/step - det_loss: 0.1795 - cls_loss: 0.1367 - box_loss: 8.5639e-04 - reg_l2_loss: 0.0766 - loss: 0.2561 - learning_rate: 3.5163e-06 - gradient_norm: 1.4777 - val_det_loss: 0.1550 - val_cls_loss: 0.1192 - val_box_loss: 7.1519e-04 - val_reg_l2_loss: 0.0766 - val_loss: 0.2316\n",
      "Epoch 50/50\n",
      "19/19 [==============================] - ETA: 0s - det_loss: 0.1734 - cls_loss: 0.1307 - box_loss: 8.5434e-04 - reg_l2_loss: 0.0766 - loss: 0.2500 - learning_rate: 3.1592e-06 - gradient_norm: 1.5066 "
     ]
    },
    {
     "name": "stderr",
     "output_type": "stream",
     "text": [
      "2024-04-14 03:06:13.811432: W tensorflow/core/framework/dataset.cc:768] Input of GeneratorDatasetOp::Dataset will not be optimized because the dataset does not implement the AsGraphDefInternal() method needed to apply optimizations.\n"
     ]
    },
    {
     "name": "stdout",
     "output_type": "stream",
     "text": [
      "19/19 [==============================] - 428s 23s/step - det_loss: 0.1742 - cls_loss: 0.1314 - box_loss: 8.5583e-04 - reg_l2_loss: 0.0766 - loss: 0.2508 - learning_rate: 3.4623e-06 - gradient_norm: 1.4910 - val_det_loss: 0.1550 - val_cls_loss: 0.1191 - val_box_loss: 7.1815e-04 - val_reg_l2_loss: 0.0766 - val_loss: 0.2316\n"
     ]
    }
   ],
   "source": [
    "model = object_detector.create(train_data, model_spec=spec, batch_size=8, train_whole_model=True, epochs=50, validation_data=val_data)"
   ]
  },
  {
   "cell_type": "code",
   "execution_count": 9,
   "id": "c41628ef-f0a4-4d56-839b-ca511a165000",
   "metadata": {},
   "outputs": [
    {
     "name": "stderr",
     "output_type": "stream",
     "text": [
      "2024-04-14 07:03:53.487530: W tensorflow/core/framework/dataset.cc:768] Input of GeneratorDatasetOp::Dataset will not be optimized because the dataset does not implement the AsGraphDefInternal() method needed to apply optimizations.\n",
      "2024-04-14 07:04:00.821911: W tensorflow/core/framework/cpu_allocator_impl.cc:82] Allocation of 1098252288 exceeds 10% of free system memory.\n"
     ]
    },
    {
     "name": "stdout",
     "output_type": "stream",
     "text": [
      "1/1 [==============================] - 12s 12s/step\n",
      "\n"
     ]
    },
    {
     "data": {
      "text/plain": [
       "{'AP': 0.8296556,\n",
       " 'AP50': 1.0,\n",
       " 'AP75': 0.96856433,\n",
       " 'APs': -1.0,\n",
       " 'APm': -1.0,\n",
       " 'APl': 0.82968795,\n",
       " 'ARmax1': 0.8548674,\n",
       " 'ARmax10': 0.8697348,\n",
       " 'ARmax100': 0.87098485,\n",
       " 'ARs': -1.0,\n",
       " 'ARm': -1.0,\n",
       " 'ARl': 0.87098485,\n",
       " 'AP_/Garbanzo Beans Canned': 0.78491855,\n",
       " 'AP_/Navy Beans Canned': 0.86882627,\n",
       " 'AP_/Pinto Beans Canned': 0.8530716,\n",
       " 'AP_/Black Beans Canned': 0.8118059}"
      ]
     },
     "execution_count": 9,
     "metadata": {},
     "output_type": "execute_result"
    }
   ],
   "source": [
    "model.evaluate(val_data)"
   ]
  },
  {
   "cell_type": "code",
   "execution_count": 10,
   "id": "2611fdf7-3190-48b8-8073-6f67a8876321",
   "metadata": {},
   "outputs": [
    {
     "name": "stderr",
     "output_type": "stream",
     "text": [
      "2024-04-14 07:04:17.577405: W tensorflow/python/util/util.cc:368] Sets are not currently considered sequences, but this may change in the future, so consider avoiding using them.\n",
      "2024-04-14 07:04:45.106088: W tensorflow/core/common_runtime/graph_constructor.cc:803] Node 'resample_p7/PartitionedCall' has 1 outputs but the _output_shapes attribute specifies shapes for 3 outputs. Output shapes may be inaccurate.\n",
      "2024-04-14 07:04:53.773667: W tensorflow/compiler/mlir/lite/python/tf_tfl_flatbuffer_helpers.cc:357] Ignored output_format.\n",
      "2024-04-14 07:04:53.773691: W tensorflow/compiler/mlir/lite/python/tf_tfl_flatbuffer_helpers.cc:360] Ignored drop_control_dependency.\n",
      "2024-04-14 07:04:53.775067: I tensorflow/cc/saved_model/reader.cc:43] Reading SavedModel from: /tmp/tmpgfdcfu7x\n",
      "2024-04-14 07:04:53.898748: I tensorflow/cc/saved_model/reader.cc:78] Reading meta graph with tags { serve }\n",
      "2024-04-14 07:04:53.898784: I tensorflow/cc/saved_model/reader.cc:119] Reading SavedModel debug info (if present) from: /tmp/tmpgfdcfu7x\n",
      "2024-04-14 07:04:54.284328: I tensorflow/cc/saved_model/loader.cc:228] Restoring SavedModel bundle.\n",
      "2024-04-14 07:04:57.012097: I tensorflow/cc/saved_model/loader.cc:212] Running initialization op on SavedModel bundle at path: /tmp/tmpgfdcfu7x\n",
      "2024-04-14 07:04:58.084854: I tensorflow/cc/saved_model/loader.cc:301] SavedModel load for tags { serve }; Status: success: OK. Took 4309789 microseconds.\n",
      "2024-04-14 07:04:59.911965: I tensorflow/compiler/mlir/tensorflow/utils/dump_mlir_util.cc:237] disabling MLIR crash reproducer, set env var `MLIR_CRASH_REPRODUCER_DIRECTORY` to enable.\n",
      "2024-04-14 07:05:01.905422: I tensorflow/compiler/mlir/lite/flatbuffer_export.cc:1963] Estimated count of arithmetic ops: 6.087 G  ops, equivalently 3.044 G  MACs\n",
      "\n",
      "fully_quantize: 0, inference_type: 6, input_inference_type: 3, output_inference_type: 0\n",
      "2024-04-14 07:07:36.916376: I tensorflow/compiler/mlir/lite/flatbuffer_export.cc:1963] Estimated count of arithmetic ops: 6.087 G  ops, equivalently 3.044 G  MACs\n",
      "\n"
     ]
    }
   ],
   "source": [
    "model.export(export_dir='.', tflite_filename='beans.tflite')"
   ]
  },
  {
   "cell_type": "code",
   "execution_count": 12,
   "id": "4797823f-e8c3-477c-bc13-8090174b01ed",
   "metadata": {},
   "outputs": [
    {
     "name": "stdout",
     "output_type": "stream",
     "text": [
      "57/57 [==============================] - 667s 12s/step\n",
      "\n"
     ]
    },
    {
     "data": {
      "text/plain": [
       "{'AP': 0.8185122,\n",
       " 'AP50': 1.0,\n",
       " 'AP75': 0.9680018,\n",
       " 'APs': -1.0,\n",
       " 'APm': -1.0,\n",
       " 'APl': 0.8185122,\n",
       " 'ARmax1': 0.84689397,\n",
       " 'ARmax10': 0.84689397,\n",
       " 'ARmax100': 0.84689397,\n",
       " 'ARs': -1.0,\n",
       " 'ARm': -1.0,\n",
       " 'ARl': 0.84689397,\n",
       " 'AP_/Garbanzo Beans Canned': 0.77305317,\n",
       " 'AP_/Navy Beans Canned': 0.8548155,\n",
       " 'AP_/Pinto Beans Canned': 0.8440286,\n",
       " 'AP_/Black Beans Canned': 0.8021515}"
      ]
     },
     "execution_count": 12,
     "metadata": {},
     "output_type": "execute_result"
    }
   ],
   "source": [
    "model.evaluate_tflite('beans.tflite', val_data)"
   ]
  },
  {
   "cell_type": "code",
   "execution_count": null,
   "id": "5dde4ae8-14ec-4657-8ffd-453e4a8d5b56",
   "metadata": {},
   "outputs": [],
   "source": []
  }
 ],
 "metadata": {
  "kernelspec": {
   "display_name": "Python 3 (ipykernel)",
   "language": "python",
   "name": "python3"
  },
  "language_info": {
   "codemirror_mode": {
    "name": "ipython",
    "version": 3
   },
   "file_extension": ".py",
   "mimetype": "text/x-python",
   "name": "python",
   "nbconvert_exporter": "python",
   "pygments_lexer": "ipython3",
   "version": "3.9.0"
  }
 },
 "nbformat": 4,
 "nbformat_minor": 5
}
